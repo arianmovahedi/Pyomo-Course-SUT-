{
 "cells": [
  {
   "cell_type": "markdown",
   "id": "43801ee5-a9b7-4eeb-8884-fe43dd97a4ff",
   "metadata": {},
   "source": [
    "___\n",
    "# <div align=center>Pyomo Course</div>\n",
    "\n",
    "**Main Source:** Pyomo — Optimization Modeling in Python **|** Springer **|** Third Editon (2021) **|** ISSN 1931-6828 **|**\n",
    "\n",
    "**Pre-requisits:** An understanding of Python Programming language **|** Modeling and Optimization **|** Experience using Jupyter Notebooks **|**\n",
    "\n",
    "**Alternatives to Pyomo:** GAMS (**General Algebraic Modeling System**) **|** AMPL (**A Mathematical Programming Language**) **|** SciPy (A scientific package developed for Python) **|**\n",
    "\n",
    "For a through and complete understanding of the Pyomo package read its documentation **[here](https://pyomo.readthedocs.io/_/downloads/en/latest/pdf/)**.\n",
    "___"
   ]
  },
  {
   "cell_type": "markdown",
   "id": "a574c4e9-defc-4446-9bb8-ec8f12144b11",
   "metadata": {},
   "source": [
    "___\n",
    "## <div align=center>Section 1: *Introduction*</div>\n",
    "\n",
    "**P**ython **O**ptimization **M**odeling **O**bjects or **Pyomo** is an optimization package with high level language (inherited from Python) designed for modeling and optimizing formulated problems tackled in a wide range of scientific fields.\n",
    "\n",
    "The core of Pyomo is an object oriented capability for representing optimization models. This means each model is an object with its own attributes such as Sets, Variables and more.\n",
    "\n",
    "Pyomo Supports formulation of common optimization models. Type of problems that this package can formulate and solve are but not limited to:\n",
    "1. Linear programs (**LP**)\n",
    "2. Mixed-integer programs (**MIP**)\n",
    "3. Non-linear programs (**NLP**)\n",
    "4. Mixed-integer non-linear programs (**MINLP**)\n",
    "5. Mathematical problems with equilibrium constraints (**MPECs**)\n",
    "6. Constraints and objectives based on differential equations\n",
    "\n",
    "And more\n",
    "\n",
    "Pyomo is a modeling language yet it hosts a *CLI* containing solver packages allowing the user to interact with solver results. To name a few:\n",
    "1. CBC\n",
    "2. CPLEX\n",
    "3. Gurobi\n",
    "\n",
    "Pyomo is an **ALM** or an **A**lgebraic **M**odeling **L**anguage. ALMs are high-level languages fir describing and solving optimization problems. Just like GAMS we use Pyomo to model a problem for the hosted solvers to solve and optimize. What separates this ALM from the other available options is its Pythonic nature, meaning integration to any code written in python and the open-source capabilities that python provides.\n",
    "\n",
    "**<div align=center> Why do we need an ALM?</div>**\n",
    "\n",
    "Without a language to specify optimization models, the process of writing input files, executing a solver, and extracting resolves from a solver is tedious and error-prone. On the solver side of optimization applications, we can have different acceptable input structures per solver while there is no real standard that these solvers adhere to. Troubleshooting communication problems arising from mis-input between the model and solver is nearly impossible without a high-level language.\n",
    "\n",
    "Pyomo as an package extends Python to include objects for optimization modeling, these high-level objects are then translated to low-level languages (code) that can be processed by external solvers. Using Pyomo allows us to use Python features like concurrency by leveraging packages such as **Multi-processing** and **Asyncio**. \n",
    "\n",
    "In every optimization problem we need a grade of simplification which allow us to represent our *knowledge* in a structured way. This simplification help us to answer the following questions with less uncertainty:\n",
    "1. What the system is?\n",
    "2. What is the future state of our system?\n",
    "3. What are the key factors (our knowledge in form of parameters) of the system?\n",
    "4. How did we model the system? was it in a worst case scenario?\n",
    "\n",
    "So a key aspect of a model to know before formulation is the required level of detail that we want to implement. To do so in formulations we have 3 main key concepts to make process of formulations as universal as possible:\n",
    "1. Variables: These represent the unknown or the changing parts of the model\n",
    "2. Parameters: Symbolic representation of real data, mostly the same during one instance of our model\n",
    "3. Relations: Equations such as *constraints*, *bounds* and *objective functions* that are either linear or non-linear combinations of Variables and Parameters.\n",
    "\n",
    "These relations can be taxing if the relations are mostly non-linear and complex so a lot of modelers seek to use linear relations as possible or opt to using linear approximations of the non-linear functions. \n",
    "\n",
    "Lets review some very simple optimization problems\n",
    "\n",
    "<div align=center>\n",
    "\n",
    "$min \\ x_1 + 2x_2$\n",
    "\n",
    "$s.t. \\ 3x_1 + 4x_2 \\ge 1$\n",
    "\n",
    "$2x_1 + 5x_2 \\ge 2$\n",
    "\n",
    "$x_1, x_2 \\ge 0$\n",
    "\n",
    "</div>\n",
    "\n",
    "If you are familiar with Python syntax you can easily replicate this LP problem to a Pyomo model in one cell of code but first install Pyomo by running the following command:\n",
    "\n",
    "`!pip install pyomo`\n",
    "\n",
    "* *Hint*: using the *!* in a jupyter notebook cell will run the command in the terminal e.g. `!pip install pyomo`. This will be useful later. While if you run it with *%* it will install in the same environment and not through a system wide terminal e.g. `%pip install pyomo`"
   ]
  },
  {
   "cell_type": "code",
   "execution_count": 1,
   "id": "65649e29-550f-4210-9b38-0fd8f8fa45df",
   "metadata": {
    "collapsed": true,
    "jupyter": {
     "outputs_hidden": true
    }
   },
   "outputs": [
    {
     "name": "stdout",
     "output_type": "stream",
     "text": [
      "Defaulting to user installation because normal site-packages is not writeable\n",
      "Requirement already satisfied: pyomo in c:\\users\\admin\\appdata\\roaming\\python\\python312\\site-packages (6.9.4)\n",
      "Requirement already satisfied: ply in c:\\programdata\\anaconda3\\lib\\site-packages (from pyomo) (3.11)\n",
      "Note: you may need to restart the kernel to use updated packages.\n"
     ]
    }
   ],
   "source": [
    "%pip install pyomo"
   ]
  },
  {
   "cell_type": "code",
   "execution_count": 2,
   "id": "7527965e-91ef-426c-9ad0-f81435022820",
   "metadata": {},
   "outputs": [],
   "source": [
    "import pyomo.environ as pyo\n",
    "\n",
    "# First we create a model instance, an object of the ConcreteModel class\n",
    "model = pyo.ConcreteModel() \n",
    "\n",
    "# Then we create model variables\n",
    "model.x_1 = pyo.Var(within=pyo.NonNegativeReals)\n",
    "model.x_2 = pyo.Var(within=pyo.NonNegativeReals)\n",
    "\n",
    "# Afterwards we assign a objective function to our model\n",
    "model.obj = pyo.Objective(expr=model.x_1 + 2 * model.x_2)\n",
    "\n",
    "# At the last step we create our constraints.\n",
    "model.con1 = pyo.Constraint(expr=3 * model.x_1 + 4 * model.x_2 >= 1)\n",
    "model.con2 = pyo.Constraint(expr=2 * model.x_1 + 5 * model.x_2 >= 2)"
   ]
  },
  {
   "cell_type": "markdown",
   "id": "f74ce103-03ab-4d16-8352-68417f03eccb",
   "metadata": {},
   "source": [
    "As simple as that we created our first Pyomo model in a very readable format.\n",
    "\n",
    "This model was an object of the **ConcreteModel** class, this class initializes each model component (Variables, objective function and constraints) as they are added, as attributes of the model object.\n",
    "\n",
    "Let's look at another LP with a more generalized formatting for formulation.\n",
    "\n",
    "<div align=center>\n",
    "\n",
    "$min \\sum_{i=1}^{n}c_i x_i$\n",
    "\n",
    "$ s.t. $\n",
    "\n",
    "$ \\sum_{i=1}^{n}a_{ji}x_i \\ge b_j \\space \\forall j = 1\\dots m$\n",
    "\n",
    "$x_i \\ge 0 \\space \\forall i = 1 \\dots n$\n",
    "\n",
    "</div>"
   ]
  },
  {
   "cell_type": "markdown",
   "id": "ad075101-b136-4646-aed0-391090c44be9",
   "metadata": {},
   "source": [
    "This is quite a step up from the last LP that we formulated. There are scalar parameters of $n$, $m$ and $c$ and vector parameter of $a$. There are 2 ways of modeling this problem in pyomo:\n",
    "1. `ConcreteModel`: The values for scalar and vector parameters are assigned to model before model initialization (basically running the model cell)\n",
    "2. `AbstractModel`: The model holds a placeholder for the parameters and the values for scalar and vector parameters are assigned to the model after model initialization\n",
    "\n",
    "We can read the parameter data in many different ways. One method to do so is to read them from a python file (.py) by importing the file. We create the file here, save it and import it. This is done so that we can replicate the process in other environments not just jupyter style (cell based) environments."
   ]
  },
  {
   "cell_type": "code",
   "execution_count": 3,
   "id": "dc14cba4-d333-492a-87b9-9cb009624120",
   "metadata": {},
   "outputs": [],
   "source": [
    "N = [1,2] # To define the acceptable range for N, we could have wrote list comprehension like N = [i for i in range(1,3)]\n",
    "M = [1,2]\n",
    "\n",
    "# We define scalar and vector parameters using a Python dictionary, defining the index(es) and the value as a key-value pair for each possible pair\n",
    "c = {1:1, 2:2}\n",
    "a = {(1,1):3, (1,2):4, (2,1):2, (2,2):5}\n",
    "b = {1:1, 2:2}"
   ]
  },
  {
   "cell_type": "markdown",
   "id": "8f051e9d-5f12-42a5-9d61-3bee2c748664",
   "metadata": {},
   "source": [
    "Using a magic command we will save cell [7] as a python file named *mydata.py* that implements the necessary scalar and vector parameter data in the model."
   ]
  },
  {
   "cell_type": "code",
   "execution_count": 5,
   "id": "41a7dbd4-cbf3-4226-b239-042b637ec347",
   "metadata": {},
   "outputs": [
    {
     "name": "stdout",
     "output_type": "stream",
     "text": [
      "The following commands were written to file `../Import Data/mydata.py`:\n",
      "N = [1,2] # To define the acceptable range for N, we could have wrote list comprehension like N = [i for i in range(1,3)]\n",
      "M = [1,2]\n",
      "\n",
      "# We define scalar and vector parameters using a Python dictionary, defining the index(es) and the value as a key-value pair for each possible pair\n",
      "c = {1:1, 2:2}\n",
      "a = {(1,1):3, (1,2):4, (2,1):2, (2,2):5}\n",
      "b = {1:1, 2:2}\n"
     ]
    }
   ],
   "source": [
    "%save \"../Import Data/mydata.py\" 3"
   ]
  },
  {
   "cell_type": "markdown",
   "id": "ff304a71-f17e-44ac-8f81-7db2af6b933e",
   "metadata": {},
   "source": [
    "Now we use a similar approach and define the model using `ConcreteModel()` first."
   ]
  },
  {
   "cell_type": "markdown",
   "id": "35a55495",
   "metadata": {},
   "source": [
    "Here we first add the <b>Import Data</b> folder to our <b>PYTHONPATH</b> variable in order to access *mydata.py* from it."
   ]
  },
  {
   "cell_type": "code",
   "execution_count": 7,
   "id": "7aa3cc6a",
   "metadata": {},
   "outputs": [],
   "source": [
    "import sys\n",
    "\n",
    "sys.path.append(\"../Import Data/\")"
   ]
  },
  {
   "cell_type": "code",
   "execution_count": 8,
   "id": "18dacdb3-bd53-425a-b26e-82e965ce81b7",
   "metadata": {},
   "outputs": [],
   "source": [
    "# 1.Importing Dependencies\n",
    "import pyomo.environ as pyo\n",
    "import mydata # Must be in our Current Working Directory (CWD)\n",
    "\n",
    "# 2.Model creation\n",
    "model = pyo.ConcreteModel()\n",
    "\n",
    "# 3.Variable creation - We put the range for the x based on N which acts as the acceptable i values\n",
    "model.x = pyo.Var(mydata.N, within=pyo.NonNegativeReals)\n",
    "\n",
    "\"\"\"\n",
    "4.Defining objective:\n",
    "We define the objective as a function (rule as in the Pyomo terminology) \n",
    "and pass in the model as an argument so the function can access the model attributes\n",
    "We create a minimize objective by calling the sense argument in the pyo.Objective function and pass to it pyo.minimize\n",
    "\"\"\"\n",
    "def obj_rule(model):\n",
    "    return sum(mydata.c[i] * model.x[i] for i in mydata.N)\n",
    "model.obj = pyo.Objective(rule=obj_rule, sense=pyo.minimize)\n",
    "\n",
    "\"\"\"\n",
    "5.Defining the constraint:\n",
    "We define the constraint as a rule since we have a for all j in the model formulation.\n",
    "The range for j is defined in the constrained attribute created by pyo.Constraint method\n",
    "Pyomo expects a separate constraint for each index in mydata.M defined as m. This value is filled with the Constraint count\n",
    "given to the pyo.Constraint() function\n",
    "\"\"\"\n",
    "def con_rule(model, m):\n",
    "    return sum(mydata.a[m,i] * model.x[i] for i in mydata.N) >= mydata.b[m]\n",
    "model.con = pyo.Constraint(mydata.M, rule=con_rule)"
   ]
  },
  {
   "cell_type": "markdown",
   "id": "ef6685d0-d143-4728-b449-2f6c4791c60d",
   "metadata": {},
   "source": [
    "We can define the same problem using an Abstract approach using the `AbstractModel()` function to initialize the model and define the parameter values later."
   ]
  },
  {
   "cell_type": "code",
   "execution_count": 10,
   "id": "545af7ae-0105-4960-bd2e-9efaf842e717",
   "metadata": {},
   "outputs": [],
   "source": [
    "# 1.Importing Dependencies\n",
    "import pyomo.environ as pyo\n",
    "\n",
    "# 2.Model creation\n",
    "model = pyo.AbstractModel()\n",
    "\n",
    "\"\"\"\n",
    "3. Defining Parameters:\n",
    "We define the indexes (i,j) as set not parameters using pyo.Set() function\n",
    "We define scalar and vector parameters using the pyo.Param() function and specify which set (in order) is used in each parameter\n",
    "So if one set is passed the function will create a scalar value and two is passed we will have a vector parameter on our hands.\n",
    "\"\"\"\n",
    "\n",
    "model.N = pyo.Set()\n",
    "model.M = pyo.Set()\n",
    "\n",
    "model.a = pyo.Param(model.M, model.N)\n",
    "model.b = pyo.Param(model.M)\n",
    "model.c = pyo.Param(model.N)\n",
    "\n",
    "# 4. Defining variable\n",
    "model.x = pyo.Var(model.N, within=pyo.NonNegativeReals)\n",
    "\n",
    "# 5.Objective creation\n",
    "def obj_rule(model):\n",
    "    return sum(model.c[i] * model.x[i] for i in model.N)\n",
    "model.obj = pyo.Objective(rule=obj_rule, sense=pyo.minimize)\n",
    "\n",
    "# 6.Constraint creation\n",
    "def con_rule(model, m):\n",
    "    return sum(model.a[m,i] * model.x[i] for i in model.N) >= model.b[m]\n",
    "model.con = pyo.Constraint(model.M, rule=con_rule)"
   ]
  },
  {
   "cell_type": "markdown",
   "id": "de03e456-07d3-4b44-aa94-d14d87efbcfd",
   "metadata": {},
   "source": [
    "We can fill the data in one of two ways:\n",
    "1. Using the **data portal** module provided within the Pyomo package by calling each set and parameter and use an instance of `DataPortal()` function to lead each attribute.\n",
    "2. Using a **.dat** file and creating a Concrete instance of the model using `create_instance()` function.\n",
    "3. Other file formats such as Excel, YAML, JSON, CSVs or even through db queries.\n",
    "\n",
    "We fill the data using a .dat file in this example and dive deeper to how to load the model with `DataPortal()` in later chapters.\n",
    "\n",
    "Format of the .dat file is as followed:"
   ]
  },
  {
   "cell_type": "raw",
   "id": "6a9813bf-9436-4f3d-ad4f-2e2bf96852ae",
   "metadata": {},
   "source": [
    "set N := \n",
    "1 2;\n",
    "\n",
    "set M := \n",
    "1 2;\n",
    "\n",
    "param c :=\n",
    "1 1\n",
    "2 2;\n",
    "\n",
    "param b :=\n",
    "1 1\n",
    "2 2;\n",
    "\n",
    "param a : 1 2 :=\n",
    "         1  3 4\n",
    "         2  2 5 ;"
   ]
  },
  {
   "cell_type": "markdown",
   "id": "8a171ece-8020-423d-a236-6eae91756532",
   "metadata": {},
   "source": [
    "We use the `.dat` file and create a **Concrete instance** of an **Abstract model** using `create_instance()` function."
   ]
  },
  {
   "cell_type": "code",
   "execution_count": 12,
   "id": "9b65e593-5413-4a58-ae6a-f445f1f6b9c6",
   "metadata": {},
   "outputs": [],
   "source": [
    "concreteModel = model.create_instance('../Import Data/pyomo.dat')"
   ]
  },
  {
   "cell_type": "markdown",
   "id": "f1d4688d",
   "metadata": {},
   "source": [
    "Now that we created a *Concrete Instance* of our model we can solve the model.\n",
    "\n",
    "There are 3 steps in total to solve a model with Pyomo:\n",
    "1. Creating the model and combining the knowledge (data) with it (**Model Initialization**)\n",
    "2. Sending the resulting *model instance* to a solver\n",
    "3. Recover the results for displaying and further usage\n",
    "\n",
    "Pyomo itself doesn't solve the model and rely on solver packages. In simple terms Pyomo works as an application programming interface (API) sending models to the solvers in their required format and receiving a creating a unified answer from the solvers output.\n",
    "\n",
    "Let's see an example of how we can solve the very first example."
   ]
  },
  {
   "cell_type": "code",
   "execution_count": 13,
   "id": "eacd0f55",
   "metadata": {},
   "outputs": [],
   "source": [
    "import pyomo.environ as pyo\n",
    "\n",
    "model = pyo.ConcreteModel() \n",
    "\n",
    "model.x_1 = pyo.Var(within=pyo.NonNegativeReals)\n",
    "model.x_2 = pyo.Var(within=pyo.NonNegativeReals)\n",
    "\n",
    "model.obj = pyo.Objective(expr=model.x_1 + 2 * model.x_2)\n",
    "\n",
    "model.con1 = pyo.Constraint(expr=3 * model.x_1 + 4 * model.x_2 >= 1)\n",
    "model.con2 = pyo.Constraint(expr=2 * model.x_1 + 5 * model.x_2 >= 2)"
   ]
  },
  {
   "cell_type": "code",
   "execution_count": 14,
   "id": "49e191aa",
   "metadata": {},
   "outputs": [
    {
     "name": "stdout",
     "output_type": "stream",
     "text": [
      "Model unknown\n",
      "\n",
      "  Variables:\n",
      "    x_1 : Size=1, Index=None\n",
      "        Key  : Lower : Value : Upper : Fixed : Stale : Domain\n",
      "        None :     0 :   0.0 :  None : False : False : NonNegativeReals\n",
      "    x_2 : Size=1, Index=None\n",
      "        Key  : Lower : Value : Upper : Fixed : Stale : Domain\n",
      "        None :     0 :   0.4 :  None : False : False : NonNegativeReals\n",
      "\n",
      "  Objectives:\n",
      "    obj : Size=1, Index=None, Active=True\n",
      "        Key  : Active : Value\n",
      "        None :   True :   0.8\n",
      "\n",
      "  Constraints:\n",
      "    con1 : Size=1\n",
      "        Key  : Lower : Body : Upper\n",
      "        None :   1.0 :  1.6 :  None\n",
      "    con2 : Size=1\n",
      "        Key  : Lower : Body : Upper\n",
      "        None :   2.0 :  2.0 :  None\n"
     ]
    }
   ],
   "source": [
    "# 1. Selecting a solver\n",
    "opt = pyo.SolverFactory('glpk')\n",
    "\n",
    "# 2. Solving the model\n",
    "results = opt.solve(model)\n",
    "\n",
    "\"\"\"\n",
    "3. Checking the state of the answer\n",
    "Using pyo.assert_optimal_termination() function will halt the script and outputs the message that the solver couldn't find the optimal solution\n",
    "If we don't want to halt the progression and just assign it to a variable or use it in a conditional block we can use check_optimal_termination().\n",
    "\"\"\"\n",
    "pyo.assert_optimal_termination(results)\n",
    "\n",
    "# Display the results\n",
    "model.display()"
   ]
  },
  {
   "cell_type": "markdown",
   "id": "e404addf",
   "metadata": {},
   "source": [
    "We can run the cell and display the output or we can run this through a CLI by taking the following steps:\n",
    "\n",
    "1. save as a `.py` file\n",
    "2. run it in the terminal with the following command."
   ]
  },
  {
   "cell_type": "markdown",
   "id": "b4aee554",
   "metadata": {},
   "source": [
    "`python -m main.py`"
   ]
  },
  {
   "cell_type": "code",
   "execution_count": 16,
   "id": "2a0695a7",
   "metadata": {},
   "outputs": [
    {
     "name": "stdout",
     "output_type": "stream",
     "text": [
      "The following commands were written to file `../Scripts/main.py`:\n",
      "import pyomo.environ as pyo\n",
      "\n",
      "model = pyo.ConcreteModel() \n",
      "\n",
      "model.x_1 = pyo.Var(within=pyo.NonNegativeReals)\n",
      "model.x_2 = pyo.Var(within=pyo.NonNegativeReals)\n",
      "\n",
      "model.obj = pyo.Objective(expr=model.x_1 + 2 * model.x_2)\n",
      "\n",
      "model.con1 = pyo.Constraint(expr=3 * model.x_1 + 4 * model.x_2 >= 1)\n",
      "model.con2 = pyo.Constraint(expr=2 * model.x_1 + 5 * model.x_2 >= 2)\n",
      "# 1. Selecting a solver\n",
      "opt = pyo.SolverFactory('glpk')\n",
      "\n",
      "# 2. Solving the model\n",
      "results = opt.solve(model)\n",
      "\n",
      "\"\"\"\n",
      "3. Checking the state of the answer\n",
      "Using pyo.assert_optimal_termination() function will halt the script and outputs the message that the solver couldn't find the optimal solution\n",
      "If we don't want to halt the progression and just assign it to a variable or use it in a conditional block we can use check_optimal_termination().\n",
      "\"\"\"\n",
      "pyo.assert_optimal_termination(results)\n",
      "\n",
      "# Display the results\n",
      "model.display()\n"
     ]
    }
   ],
   "source": [
    "%save \"../Scripts/main.py\" 13-14"
   ]
  },
  {
   "cell_type": "markdown",
   "id": "dd7e1153-fb80-4d50-a356-15f1443928e0",
   "metadata": {},
   "source": [
    "<div align=center> <b>Extra Example:</b> Graph Coloring </div>\n",
    "\n",
    "The graph coloring (Also known as vertex coloring) problem concernsthe assignment of colors to vertices of a graph such that no two adjacent (sharing an edge) share the same color. This is done with a integer programming (IP) formulation given below:\n",
    "\n",
    "<div align=center>\n",
    "\n",
    "$min \\space y$\n",
    "$s.t. \\sum_{c \\in C}x_{v,c} = 1 \\space \\forall v \\in V$\n",
    "\n",
    "$x_{v_1,c} + x_{v_2,c} \\le 1 \\space \\forall (v_1,v_2) \\in E$\n",
    "\n",
    "$y \\ge c.x_{v,c} \\space \\space \\forall v \\in V, \\space c \\in C$\n",
    "\n",
    "$x_{v,c} \\in {0,1} \\space \\space \\forall v \\in V, \\space c \\in C$\n",
    "</div>\n",
    "\n",
    "We can implement this formulation in Pyomo like this:"
   ]
  },
  {
   "cell_type": "code",
   "execution_count": 17,
   "id": "7c063784-a56e-463d-bec2-7a7e56d73b54",
   "metadata": {},
   "outputs": [],
   "source": [
    "# 1. Define Graph data\n",
    "vertices = set(['Ar', 'Bo', 'Br', 'Ch', 'Co', 'Ec', 'FG', 'Gu', 'Pa', 'Pe', 'Su', 'Ur', 'Ve'])\n",
    "\n",
    "edges = set([('FG','Su'), ('FG','Br'), ('Su','Gu'),\n",
    "             ('Su' ,'Br') , ('Gu','Ve') , ('Gu','Br'),\n",
    "             ('Ve' ,'Co') , ('Ve' ,'Br') , ('Co' ,'Ec'),\n",
    "             ('Co','Pe'), ('Co','Br'), ('Ec','Pe'),\n",
    "             ('Pe','Ch'), ('Pe','Bo'), ('Pe','Br'),\n",
    "             ('Ch','Ar') , ('Ch','Bo') , ('Ar' ,'Ur') ,\n",
    "             ('Ar','Br') , ('Ar' ,'Pa') , ('Ar' ,'Bo'),\n",
    "             ('Ur','Br'), ('Bo','Pa'), ('Bo','Br'),\n",
    "             ('Pa','Br')])\n",
    "\n",
    "# 2. Number of possible colors for the problem\n",
    "ncolors = 4\n",
    "colors = range(1, ncolors+1)"
   ]
  },
  {
   "cell_type": "markdown",
   "id": "192f7263-1f4a-4f4c-94ed-e820776f3aaa",
   "metadata": {},
   "source": [
    "We can build the graph for better understanding of the problem at hand."
   ]
  },
  {
   "cell_type": "code",
   "execution_count": 18,
   "id": "9bc99ab0-077c-4013-85e6-05a939fae991",
   "metadata": {},
   "outputs": [
    {
     "data": {
      "image/png": "[encoded data removed]",
      "text/plain": [
       "<Figure size 800x600 with 1 Axes>"
      ]
     },
     "metadata": {},
     "output_type": "display_data"
    }
   ],
   "source": [
    "# Extra 1. Importing Dependencies\n",
    "\n",
    "import matplotlib.pyplot as plt\n",
    "import networkx as nx\n",
    "\n",
    "G = nx.Graph()\n",
    "G.add_nodes_from(vertices)\n",
    "G.add_edges_from(edges)\n",
    "\n",
    "# Extra 2. Greedy color the graph (uses up to ncolors)\n",
    "palette = ['red', 'blue', 'yellow', 'green']\n",
    "coloring = nx.coloring.greedy_color(G, strategy='largest_first')\n",
    "node_colors = [\n",
    "    palette[coloring[node] % ncolors]\n",
    "    for node in G.nodes()\n",
    "]\n",
    "\n",
    "# Extra 3. Graph creation\n",
    "pos = nx.spring_layout(G, seed=40)\n",
    "plt.figure(figsize=(8,6))\n",
    "nx.draw_networkx_nodes(G, pos, node_color=node_colors, node_size=700)\n",
    "nx.draw_networkx_edges(G, pos, edge_color='gray')\n",
    "nx.draw_networkx_labels(G, pos, font_size=10)\n",
    "plt.title(\"Sample Vertex Coloring Problem Graph\")\n",
    "plt.axis('off')\n",
    "plt.show()\n"
   ]
  },
  {
   "cell_type": "code",
   "execution_count": 19,
   "id": "40c67dfd-adf4-4eb4-b298-2ff76fcaa52f",
   "metadata": {},
   "outputs": [],
   "source": [
    "# 3.Importing Dependencies\n",
    "import pyomo.environ as pyo\n",
    "\n",
    "# 4.Model creation\n",
    "model = pyo.ConcreteModel()\n",
    "\n",
    "# 5.Defining variables\n",
    "model.x = pyo.Var(vertices, colors, within=pyo.Binary)\n",
    "model.y = pyo.Var()\n",
    "\n",
    "# 6.Objective creation\n",
    "model.obj = pyo.Objective(expr=model.y, sense=pyo.minimize)\n",
    "\n",
    "\"\"\"\n",
    "7. Constraint definition:\n",
    "We can use ConstraintList() function to define constraints without a predefined rule with the use of nested loops.\n",
    "We first create an instance of a ConstraintList() and then use the .add() method through nested loops to create each constraint\n",
    "\n",
    "First set of constraints prevents our nodes to be colored with more than one color\n",
    "Second set of constraints prevents the nodes that share an edge to share a same color\n",
    "Final set of constraints provide a lower bound on the minimum number of colors we need\n",
    "\"\"\"\n",
    "model.node_coloring = pyo.ConstraintList()\n",
    "for v in vertices:\n",
    "    model.node_coloring.add(sum(model.x[v,c] for c in colors) == 1)\n",
    "\n",
    "model.edge_coloring = pyo.ConstraintList()\n",
    "for v,w in edges:\n",
    "    for c in colors:\n",
    "        model.edge_coloring.add(model.x[v,c] + model.x[w,c] <= 1)\n",
    "\n",
    "model.min_coloring = pyo.ConstraintList()\n",
    "for v in vertices:\n",
    "    for c in colors:\n",
    "        model.min_coloring.add(model.y >= c * model.x[v,c])"
   ]
  },
  {
   "cell_type": "markdown",
   "id": "1b00d87f-73d9-4589-b7bb-2e6d1cd23a76",
   "metadata": {},
   "source": [
    "**Conclusion**\n",
    "\n",
    "To conclude Chapter 1 we will go over the reasons why Pyomo can be a good choice as your primary ALM whether you are a student or a researcher:\n",
    "1. **Python:** An understandable high-level syntax and integration possibilities through the usage of a platera of packages.\n",
    "2. **Customizable Capacity:** Pyomo has a framework plug-in that allows users to add the functionalities they want without destablizing the core functions.\n",
    "3. **Command-Line Tools and Scripting:** Alongside scripting capabilities in your IDE or environment of choice pyomo is accessible through a CLI by just using `pyomo` command in your terminal of choice.\n",
    "4. **Concrete and Abstract model definitions:** This allow user to define the model in two different ways dependent to the context. Both types can be initialized with various ways and through different file formats.\n",
    "5. **Object-Oriebted Design:** Models are Python objects and the component of each model is defined as an attribute of the model object. This approach can help us seperate components of the same name through their model name. This models can have nested heirarchy through blocks which we tackle in the following chapters.\n",
    "6. **Expressive modeling capability:** We can solve a wide range of optimization problems with the model created by Pyomo.\n",
    "7. **Solver Integration:** There is 2 ways to use solvers with models whether through tightly coupled (linking to optimization solver libraries such as Gurobi or CPLEX that do not require external file creation) or loosely coupled (through system calls).\n",
    "8. **Open Source:** The project is open source under the BSD license and carefully managed.\n",
    "\n",
    "**<div align=\"center\">End of Section 1.</div>**\n",
    "\n",
    "___\n"
   ]
  },
  {
   "cell_type": "markdown",
   "id": "5d98be76-b462-471d-9e34-25c614437661",
   "metadata": {},
   "source": [
    "___\n",
    "## <div align=center> Section 2: *Pyomo Bits and Pieces* </div>\n",
    "\n",
    "<hr />\n",
    "\n",
    "<h3 align=center>Stage 1: Simple Pyomo Functions to Get You Started</h3>\n",
    "\n",
    "In this section we will learn about Pyomo components and model capabilities. A model which is an object has components that allow us to create our desired formulation. These components consist of variable, objective functions, constraints, index sets and parameters which are present in most AMLs.\n",
    "\n",
    "As stated in the previous chapter, solving any problem with Pyomo consists of 3 main steps:\n",
    "1. Create an instance of a model using Pyomo modeling components\n",
    "2. Pass this instance to solver to find a solution\n",
    "3. Report and analyze results from the solver\n",
    "\n",
    "We can use the Pythonic nature of Pyomo to create custom workflows that require optimizations.\n",
    "\n",
    "We use the warehouse location problem in this chapter in order to take a deeper look at Pyomo *components*. The formulation for warehouse location problem is as followed. This problem seeks to find the optimal positioning of the warehouse in order to satisfy the most demand with optimizing transportation costs.\n",
    "\n",
    "<div align=center>\n",
    "\n",
    "$ min_{x,y} \\sum_{n \\in N} \\sum_{m \\in M} d_{n,m} x_{n,m}$\n",
    "\n",
    "$s.t.$\n",
    "\n",
    "$ \\sum_{n \\in N} x_{n,m} = 1 \\space \\forall \\space m \\in M $\n",
    "\n",
    "$x_{n,m} \\le y_n \\space \\forall \\space n \\in N \\space, m \\in M$\n",
    "\n",
    "$\\sum_{n \\in N} y_n \\le P$\n",
    "\n",
    "$ 0 \\le x \\le 1$\n",
    "\n",
    "$y \\in \\{0, 1\\}$\n",
    "\n",
    "</div>\n",
    "\n",
    "**Problem parameters:**\n",
    "\n",
    "P (maximum count of warehouse to be built) = 2\n",
    "\n",
    "Customer locations (M) = {NYC, LA, Chicago, Houston}\n",
    "\n",
    "Candidate warehouse locations (N) = {Harlingen, Memphis, Ashland}\n",
    "\n",
    "$d_{n, m}$ which is the cost of transporting from warehouse n to the customer city of m.\n",
    "\n",
    "<div align=center>\n",
    "\n",
    "|           | NYC  |  LA  | Chicago | Houston |\n",
    "|:----------|:----:|:----:|:-------:|:-------:|\n",
    "| Harlingen | 1956 | 1606 |  1410   |   330   |\n",
    "| Memphis   | 1096 | 1792 |  531    |   567   |\n",
    "| Ashland   | 485  | 2322 |  324    |   1236  |\n",
    "\n",
    "</div>\n",
    "\n",
    "**<div align=center> Variable, Objective and Constraints Components</div>**\n",
    "\n",
    "First to understand these components we look at a simple example and implement it in Pyomo. One for each component.\n",
    "\n",
    "*variables* : $x$ (boundless), $y \\in {-2,4}$ and $z\\ge 0$ with and initial value of 1.\n",
    "\n",
    "First we initialize a model instance and add each variable as an attribute to the model instance."
   ]
  },
  {
   "cell_type": "code",
   "execution_count": 20,
   "id": "c3bc9efd-5428-4cfa-bf98-b724b6eab24a",
   "metadata": {},
   "outputs": [],
   "source": [
    "model = pyo.ConcreteModel()"
   ]
  },
  {
   "cell_type": "markdown",
   "id": "a1616279",
   "metadata": {},
   "source": [
    "$x \\rightarrow$ Continuous. Added as a `pyo.Var()` attribute to the model instance"
   ]
  },
  {
   "cell_type": "code",
   "execution_count": 21,
   "id": "bb5bcba0",
   "metadata": {},
   "outputs": [],
   "source": [
    "model.x = pyo.Var()"
   ]
  },
  {
   "cell_type": "markdown",
   "id": "3f7fa549",
   "metadata": {},
   "source": [
    "$y \\rightarrow$ within a pre-specified range of -2 to 4. To assign a bound to a variable we use `bounds=` argument in `pyo.Var()`"
   ]
  },
  {
   "cell_type": "code",
   "execution_count": 22,
   "id": "ebcb1961",
   "metadata": {},
   "outputs": [],
   "source": [
    "model.y = pyo.Var(bounds=(-2,4))"
   ]
  },
  {
   "cell_type": "markdown",
   "id": "2ec3faf2",
   "metadata": {},
   "source": [
    "$z \\rightarrow $ a non-negative variable with an initial value. To give an initial value we use `initialize=` argument and to create $y \\ge 0 $ in `within=`. We use `pyo.NonNegativeReals` which is a class that assigns a domain to the variable. We can use other types like `pyo.NonPositiveInteger`, `pyo.Binary` and more."
   ]
  },
  {
   "cell_type": "code",
   "execution_count": 23,
   "id": "bf1154a2",
   "metadata": {},
   "outputs": [],
   "source": [
    "model.z = pyo.Var(initialize=1.0, within=pyo.NonNegativeReals)"
   ]
  },
  {
   "cell_type": "markdown",
   "id": "06faa408",
   "metadata": {},
   "source": [
    "Just like Variables we assign any function whether it be objective or constraint as another attribute for the model.\n",
    "\n",
    "<div align=center> \n",
    "\n",
    "Objective function $ \\rightarrow \\min x^2 + y + z$  \n",
    "\n",
    "Constraint function 1 $ \\rightarrow x + z + y = 1 $\n",
    "\n",
    "Constraint function 2 $ \\rightarrow x + y \\le 0 $\n",
    "\n",
    "</div> \n",
    "\n",
    "We can use `pyo.Objective()` to define objective function, in which we can write either as a expression (using `expr=`) or as a rule (using `rule=`) that we pass a function to. With the use of `sense=` argument we tell the objective function whether to minimize (by passing `pyo.minimize` to the argument) or maximizing (by passing `pyo.maximize` to the argument). The default value for `sense=` is set as minimizing.\n"
   ]
  },
  {
   "cell_type": "code",
   "execution_count": 24,
   "id": "3ab433da",
   "metadata": {},
   "outputs": [],
   "source": [
    "model.obj1 = pyo.Objective(expr=model.x**2 + model.y + model.z, sense=pyo.minimize)\n",
    "\n",
    "# Or\n",
    "\n",
    "def Objective_rule(model):\n",
    "    return model.x**2 + model.y + model.z\n",
    "\n",
    "model.obj2 = pyo.Objective(rule= Objective_rule, sense=pyo.minimize)"
   ]
  },
  {
   "cell_type": "markdown",
   "id": "98718e3e",
   "metadata": {},
   "source": [
    "We can use `pyo.Constraint()` to define each constraint. We can use `expr=` or `rule=` just like the `pyo.Objective()` function. While using `pyo.Constraint()` we need to define the RHS which can be done after one of the `>=` greater than, `<=` lesser than and `==` equals."
   ]
  },
  {
   "cell_type": "code",
   "execution_count": 25,
   "id": "46441d94",
   "metadata": {},
   "outputs": [],
   "source": [
    "model.const1 = pyo.Constraint(expr=model.x + model.y + model.z ==1)\n",
    "\n",
    "# Or\n",
    "\n",
    "def const_rule(model):\n",
    "    return model.x + model.y + model.z ==1\n",
    "\n",
    "model.const2 = pyo.Constraint(rule=const_rule)"
   ]
  },
  {
   "cell_type": "markdown",
   "id": "d1ea4fca",
   "metadata": {},
   "source": [
    "Definition of the Constraint and Objectives through *Rules* are more common due to repetitive nature of these functions in most real world problems which usually have indexed variables and parameters.\n",
    "\n",
    "Last example consisted of only Scalar (single and not indexed) variables. In the warehouse location problem we have indexed values such as $d_{n,m}$ which can be displayed as an matrix of values.\n",
    "<div align=center>\n",
    "\n",
    "\n",
    "|           | NYC  |  LA  | Chicago | Houston |\n",
    "|:----------|:----:|:----:|:-------:|:-------:|\n",
    "| Harlingen | 1956 | 1606 |  1410   |   330   |\n",
    "| Memphis   | 1096 | 1792 |  531    |   567   |\n",
    "| Ashland   | 485  | 2322 |  324    |   1236  | \n",
    "\n",
    "\n",
    "$\n",
    "\\downarrow\n",
    "$ \n",
    "$$d_{n,m} = \\begin{bmatrix}\n",
    "1956 & 1606 & 1410 & 330\\\\\n",
    "1096 & 1792 & 531 & 567\\\\\n",
    "485 & 2322 & 324 & 1236\n",
    "\\end{bmatrix}\n",
    "$$\n",
    "\n",
    "</div>\n",
    "\n",
    "Variable modeling can be done like $x_{Harlingen, NYC}, x_{Harlingen, LA}, \\dots$"
   ]
  },
  {
   "cell_type": "code",
   "execution_count": 26,
   "id": "689b6498",
   "metadata": {},
   "outputs": [],
   "source": [
    "model = pyo.AbstractModel()\n",
    "\n",
    "model.x_Harlingen_NYC = pyo.Var(bounds=(0,1))\n",
    "model.x_Harlingen_LA  = pyo.Var(bounds=(0,1))\n",
    "# ... until we create the rest which comes to a total of 12 variables."
   ]
  },
  {
   "cell_type": "markdown",
   "id": "d778279b",
   "metadata": {},
   "source": [
    "If we want to create each indexed variable for each pair of warehouse (n) and city (m) it wouldn't be optimal, we need an iterative approach. We can formulate the problem using *indexed components*.\n",
    "\n",
    "First we should create a list of **valid indexes**."
   ]
  },
  {
   "cell_type": "code",
   "execution_count": 27,
   "id": "e74cd4e7",
   "metadata": {},
   "outputs": [],
   "source": [
    "N = ['Harlingen', 'Memphis', 'Ashland']\n",
    "M = ['NYC', 'LA', 'Chicago', 'Houston']"
   ]
  },
  {
   "cell_type": "markdown",
   "id": "4a49c735",
   "metadata": {},
   "source": [
    "We then can create the $x_{n,m}$ and $y_{n}$ using the provided N and M index lists by calling the `pyo.Var()` and pass the amount of sets in the formulated index order (order is crucial). Afterwards we can pass the other arguments by calling the argument keyword."
   ]
  },
  {
   "cell_type": "code",
   "execution_count": 28,
   "id": "fec02749",
   "metadata": {},
   "outputs": [],
   "source": [
    "model = pyo.ConcreteModel()\n",
    "\n",
    "model.x = pyo.Var(N, M, bounds=(0,1))\n",
    "model.y = pyo.Var(N, within=pyo.Binary)"
   ]
  },
  {
   "cell_type": "markdown",
   "id": "281cf0dc",
   "metadata": {},
   "source": [
    "Each value can be accessed through attribute indexing which is similar to NumPy. e.g `model.x[n,m]` since $x_{n,m}$ is a two-dimensional variable and will be stored as an array while to access each $y_{n}$ we can use `model.y[n]`. We should call the variable using it's indexes name."
   ]
  },
  {
   "cell_type": "code",
   "execution_count": 29,
   "id": "1f12e7b3",
   "metadata": {},
   "outputs": [
    {
     "data": {
      "text/plain": [
       "<pyomo.core.base.var.VarData at 0x16dd46044b0>"
      ]
     },
     "execution_count": 29,
     "metadata": {},
     "output_type": "execute_result"
    }
   ],
   "source": [
    "model.x['Harlingen','NYC']"
   ]
  },
  {
   "cell_type": "markdown",
   "id": "99968353",
   "metadata": {},
   "source": [
    "**Note:** Pyomo modeling components can include any number of index sets as unnamed arguments in their declaration but they must be speciﬁed before any other named keyword arguments. These index sets specify the valid indices for individual elements of the component.\n",
    "\n",
    "Since the Variables are indexed now we can iterate over them in our functions whether it be Objective or Constraint.\n",
    "\n",
    "We can rewrite the maximum number of warehouses constraint with a list comprehension."
   ]
  },
  {
   "cell_type": "code",
   "execution_count": 30,
   "id": "a6a2fa1b",
   "metadata": {},
   "outputs": [],
   "source": [
    "P= 2\n",
    "\n",
    "model.num_warehouse = pyo.Constraint(expr=(sum(model.y[n] for n in N) <= P))"
   ]
  },
  {
   "cell_type": "markdown",
   "id": "fc8dbc25",
   "metadata": {},
   "source": [
    "The list comprehension will first create each $y_{n}$ using the `model.y[n]` and the indexes it reads from list N and sum over all of them and then compares it to N.\n",
    "\n",
    "Step 1: Creation of all $y_{n}$ 's in a list $\\rightarrow$ $ \\begin{bmatrix} y_{Harlingen} & y_{Memphis} & y_{Ashland} \\end{bmatrix} $\n",
    "\n",
    "Step 2: Sum over the items of the list $\\rightarrow \\space \\sum_{n \\in \\space N}(y_n) \\rightarrow \\space = \\space y_{Harlingen} + y_{Memphis} + y_{Ashland} $\n",
    "\n",
    "Step 3: LHS and RHS comparison $\\rightarrow \\space y_{Harlingen} + y_{Memphis} + y_{Ashland} \\le 2 $\n",
    "\n",
    "We can also use list comprehension on arrays with bigger ndims than 1."
   ]
  },
  {
   "cell_type": "code",
   "execution_count": 31,
   "id": "a8f1ed9d",
   "metadata": {},
   "outputs": [],
   "source": [
    "import numpy as np\n",
    "\n",
    "d = np.array([[1956, 1606, 1410, 330],\n",
    "              [1096, 1792, 531, 567],\n",
    "              [485, 2322, 324, 1236]], dtype=np.int16)\n",
    "\n",
    "M_indexed = {name : m for m, name in enumerate(M)}\n",
    "N_indexed = {name : n for n, name in enumerate(N)}\n",
    "\n",
    "model.obj = pyo.Objective(expr=sum(d[N_indexed[n], M_indexed[m]] * model.x[n,m] for n in N for m in M))"
   ]
  },
  {
   "cell_type": "markdown",
   "id": "94130563",
   "metadata": {},
   "source": [
    "**<div align=center> Using Construction Rules for Constraint and Objective Creation </div>**\n",
    "\n",
    "The construction of many indexed constraints is performed with *construction rules*.\n",
    "\n",
    "e.g.:\n",
    "\n",
    "<div align=center> \n",
    "\n",
    "$ \\sum_{n \\in N} x_{n,m} = 1\\space \\forall m \\in M $ \n",
    "\n",
    "</div> \n",
    "\n",
    "This formulation suggests there is a single constraint for any available pair of $x_{n,m}$. So for example we will have:\n",
    "\n",
    "<div align=center> \n",
    "\n",
    "$ x_{Harlingen,NYC} + x_{Memphis,NYC} + x_{Ashland,NYC} = 1 $ \n",
    "\n",
    "$ x_{Harlingen, LA} + x_{Memphis, LA} + x_{Ashland, LA} = 1 $ \n",
    "\n",
    "$ x_{Harlingen, Chicago} + x_{Memphis, Chicago} + x_{Ashland, Chicago} = 1 $ \n",
    "\n",
    "$ x_{Harlingen, Houston} + x_{Memphis, Houston} + x_{Ashland, Houston} = 1 $ \n",
    "\n",
    "</div> \n",
    "\n",
    "We can see creating each one by one is tedious task, we can use rules to write one function and use the index used in $\\forall \\dots$ to create that many constraints.\n",
    "\n",
    "We pass the model and in this example m (customer cities) defined in the formulation to the rule. `sum(model.x[n, m] for n in N) == 1 ` for a $m$ for example NYC is basically $x_{Harlingen,NYC} + x_{Memphis,NYC} + x_{Ashland,NYC} = 1 $. m should be passed as an argument to the rule from the `pyo.Constraint()` function to create M amounts of constraints."
   ]
  },
  {
   "cell_type": "code",
   "execution_count": 32,
   "id": "678db435",
   "metadata": {},
   "outputs": [],
   "source": [
    "def demand_rule(model, m): # This function will be called to produce the correct constraint expression for each M\n",
    "    return sum(model.x[n, m] for n in N) == 1 \n",
    "\n",
    "model.demand = pyo.Constraint(M, rule=demand_rule)"
   ]
  },
  {
   "cell_type": "markdown",
   "id": "39bf7088",
   "metadata": {},
   "source": [
    "**<div align=center> Complete `pyo.ConcreteModel()` for The Warehouse Location Problem</div>**"
   ]
  },
  {
   "cell_type": "markdown",
   "id": "4e1e3138",
   "metadata": {},
   "source": [
    "Creating a model through a function (modular design) is preferable due to the fact that the function can be used to create another model with different sets of parameters and is highly reusable"
   ]
  },
  {
   "cell_type": "code",
   "execution_count": 33,
   "id": "ac7712f6",
   "metadata": {},
   "outputs": [],
   "source": [
    "def create_warehouse_model(N, M, d, P):\n",
    "\n",
    "    # Importing Dependencies\n",
    "    import pyomo.environ as pyo\n",
    "    \n",
    "    # Model Creation\n",
    "    model = pyo.ConcreteModel(name=\"(WL)\")\n",
    "\n",
    "    # Variable Definition\n",
    "    model.x = pyo.Var(N, M, bounds=(0,1))\n",
    "    model.y = pyo.Var(N, within=pyo.Binary)\n",
    "\n",
    "    # Objective Function Definition\n",
    "    def obj_rule(model):\n",
    "        return sum(d[n, m] * model.x[n,m] for n in N for m in M)\n",
    "    model.obj = pyo.Objective(rule=obj_rule)\n",
    "\n",
    "    # Constraint 1\n",
    "    def demand_rule(model, m):\n",
    "        return sum(model.x[n,m] for n in N) == 1\n",
    "    model.demand = pyo.Constraint(M, rule=demand_rule)\n",
    "\n",
    "    # Constraint 2\n",
    "    def warehouse_active_rule(model,n, m):\n",
    "        return model.x[n,m] <= model.y[n]\n",
    "    model.warehouse_active = pyo.Constraint(N, M, rule=warehouse_active_rule)\n",
    "\n",
    "    # Constraint 3\n",
    "    def num_warehouse_rule(model):\n",
    "        return sum(model.y[n] for n in N) <= P\n",
    "    model.num_warehouse = pyo.Constraint(rule=num_warehouse_rule)\n",
    "\n",
    "    # Function Output\n",
    "    return model "
   ]
  },
  {
   "cell_type": "code",
   "execution_count": 34,
   "id": "bdc2438e",
   "metadata": {},
   "outputs": [
    {
     "name": "stdout",
     "output_type": "stream",
     "text": [
      "The following commands were written to file `../Scripts/warehouse_concrete_script.py`:\n",
      "def create_warehouse_model(N, M, d, P):\n",
      "\n",
      "    # Importing Dependencies\n",
      "    import pyomo.environ as pyo\n",
      "    \n",
      "    # Model Creation\n",
      "    model = pyo.ConcreteModel(name=\"(WL)\")\n",
      "\n",
      "    # Variable Definition\n",
      "    model.x = pyo.Var(N, M, bounds=(0,1))\n",
      "    model.y = pyo.Var(N, within=pyo.Binary)\n",
      "\n",
      "    # Objective Function Definition\n",
      "    def obj_rule(model):\n",
      "        return sum(d[n, m] * model.x[n,m] for n in N for m in M)\n",
      "    model.obj = pyo.Objective(rule=obj_rule)\n",
      "\n",
      "    # Constraint 1\n",
      "    def demand_rule(model, m):\n",
      "        return sum(model.x[n,m] for n in N) == 1\n",
      "    model.demand = pyo.Constraint(M, rule=demand_rule)\n",
      "\n",
      "    # Constraint 2\n",
      "    def warehouse_active_rule(model,n, m):\n",
      "        return model.x[n,m] <= model.y[n]\n",
      "    model.warehouse_active = pyo.Constraint(N, M, rule=warehouse_active_rule)\n",
      "\n",
      "    # Constraint 3\n",
      "    def num_warehouse_rule(model):\n",
      "        return sum(model.y[n] for n in N) <= P\n",
      "    model.num_warehouse = pyo.Constraint(rule=num_warehouse_rule)\n",
      "\n",
      "    # Function Output\n",
      "    return model \n"
     ]
    }
   ],
   "source": [
    "%save \"../Scripts/warehouse_concrete_script.py\" 33"
   ]
  },
  {
   "cell_type": "markdown",
   "id": "3a2c0c89",
   "metadata": {},
   "source": [
    "One instance parameters:"
   ]
  },
  {
   "cell_type": "markdown",
   "id": "0bcf8714",
   "metadata": {},
   "source": [
    "**Reminder:** If you didn't append the Scripts Folder to the Python path variable (Temporarily) the following cell will not work"
   ]
  },
  {
   "cell_type": "code",
   "execution_count": 36,
   "id": "06c5aa2d",
   "metadata": {},
   "outputs": [],
   "source": [
    "import sys\n",
    "\n",
    "sys.path.append(\"../Scripts/\")"
   ]
  },
  {
   "cell_type": "code",
   "execution_count": 37,
   "id": "00f9e397",
   "metadata": {},
   "outputs": [
    {
     "name": "stdout",
     "output_type": "stream",
     "text": [
      "y : Size=3, Index={Harlingen, Memphis, Ashland}\n",
      "    Key       : Lower : Value : Upper : Fixed : Stale : Domain\n",
      "      Ashland :     0 :   1.0 :     1 : False : False : Binary\n",
      "    Harlingen :     0 :   1.0 :     1 : False : False : Binary\n",
      "      Memphis :     0 :   0.0 :     1 : False : False : Binary\n"
     ]
    }
   ],
   "source": [
    "# wm_concrete_script.py\n",
    "# Solve an instance of the warehouse location problem\n",
    "\n",
    "# Importing Dependencies\n",
    "import pyomo.environ as pyo\n",
    "from warehouse_concrete_script import create_warehouse_model\n",
    "\n",
    "# Establish the data for the model\n",
    "\n",
    "N = ['Harlingen', 'Memphis', 'Ashland']\n",
    "M = ['NYC', 'LA', 'Chicago', 'Houston']\n",
    "\n",
    "d = {('Harlingen', 'NYC'): 1956, \n",
    "     ('Harlingen', 'LA'): 1606,\n",
    "     ('Harlingen', 'Chicago'): 1410,\n",
    "     ('Harlingen', 'Houston'): 330,\n",
    "     ('Memphis', 'NYC'): 1096,\n",
    "     ('Memphis', 'LA'): 1792,\n",
    "     ('Memphis', 'Chicago'): 531,\n",
    "     ('Memphis', 'Houston'): 567,\n",
    "     ('Ashland', 'NYC'): 485,\n",
    "     ('Ashland', 'LA'): 2322,\n",
    "     ('Ashland', 'Chicago'): 324,\n",
    "     ('Ashland', 'Houston'): 1236}\n",
    "\n",
    "P = 2\n",
    "\n",
    "# Create Pyomo model\n",
    "model = create_warehouse_model(N, M, d, P)\n",
    "\n",
    "# Create the solver interface and solve the model\n",
    "solver = pyo.SolverFactory('glpk')\n",
    "results = solver.solve(model)\n",
    "\n",
    "# Make sure that the returned values are the optimal ones (if an optimal answer exists)\n",
    "pyo.assert_optimal_termination(results)\n",
    "\n",
    "model.y.pprint()"
   ]
  },
  {
   "cell_type": "markdown",
   "id": "6e41370d",
   "metadata": {},
   "source": [
    "Solution shows the best place to place our warehouses are at Ashland and Harlingen."
   ]
  },
  {
   "cell_type": "markdown",
   "id": "bfd7ce56",
   "metadata": {},
   "source": [
    "<code>model.pprint()</code> will print the result in a summarized order consisting of constraints and objective functions. The whole function output is given in the next cell."
   ]
  },
  {
   "cell_type": "code",
   "execution_count": 38,
   "id": "1f461cfa",
   "metadata": {},
   "outputs": [
    {
     "name": "stdout",
     "output_type": "stream",
     "text": [
      "2 Var Declarations\n",
      "    x : Size=12, Index={Harlingen, Memphis, Ashland}*{NYC, LA, Chicago, Houston}\n",
      "        Key                      : Lower : Value : Upper : Fixed : Stale : Domain\n",
      "          ('Ashland', 'Chicago') :     0 :   1.0 :     1 : False : False :  Reals\n",
      "          ('Ashland', 'Houston') :     0 :   0.0 :     1 : False : False :  Reals\n",
      "               ('Ashland', 'LA') :     0 :   0.0 :     1 : False : False :  Reals\n",
      "              ('Ashland', 'NYC') :     0 :   1.0 :     1 : False : False :  Reals\n",
      "        ('Harlingen', 'Chicago') :     0 :   0.0 :     1 : False : False :  Reals\n",
      "        ('Harlingen', 'Houston') :     0 :   1.0 :     1 : False : False :  Reals\n",
      "             ('Harlingen', 'LA') :     0 :   1.0 :     1 : False : False :  Reals\n",
      "            ('Harlingen', 'NYC') :     0 :   0.0 :     1 : False : False :  Reals\n",
      "          ('Memphis', 'Chicago') :     0 :   0.0 :     1 : False : False :  Reals\n",
      "          ('Memphis', 'Houston') :     0 :   0.0 :     1 : False : False :  Reals\n",
      "               ('Memphis', 'LA') :     0 :   0.0 :     1 : False : False :  Reals\n",
      "              ('Memphis', 'NYC') :     0 :   0.0 :     1 : False : False :  Reals\n",
      "    y : Size=3, Index={Harlingen, Memphis, Ashland}\n",
      "        Key       : Lower : Value : Upper : Fixed : Stale : Domain\n",
      "          Ashland :     0 :   1.0 :     1 : False : False : Binary\n",
      "        Harlingen :     0 :   1.0 :     1 : False : False : Binary\n",
      "          Memphis :     0 :   0.0 :     1 : False : False : Binary\n",
      "\n",
      "1 Objective Declarations\n",
      "    obj : Size=1, Index=None, Active=True\n",
      "        Key  : Active : Sense    : Expression\n",
      "        None :   True : minimize : 1956*x[Harlingen,NYC] + 1606*x[Harlingen,LA] + 1410*x[Harlingen,Chicago] + 330*x[Harlingen,Houston] + 1096*x[Memphis,NYC] + 1792*x[Memphis,LA] + 531*x[Memphis,Chicago] + 567*x[Memphis,Houston] + 485*x[Ashland,NYC] + 2322*x[Ashland,LA] + 324*x[Ashland,Chicago] + 1236*x[Ashland,Houston]\n",
      "\n",
      "3 Constraint Declarations\n",
      "    demand : Size=4, Index={NYC, LA, Chicago, Houston}, Active=True\n",
      "        Key     : Lower : Body                                                           : Upper : Active\n",
      "        Chicago :   1.0 : x[Harlingen,Chicago] + x[Memphis,Chicago] + x[Ashland,Chicago] :   1.0 :   True\n",
      "        Houston :   1.0 : x[Harlingen,Houston] + x[Memphis,Houston] + x[Ashland,Houston] :   1.0 :   True\n",
      "             LA :   1.0 :                x[Harlingen,LA] + x[Memphis,LA] + x[Ashland,LA] :   1.0 :   True\n",
      "            NYC :   1.0 :             x[Harlingen,NYC] + x[Memphis,NYC] + x[Ashland,NYC] :   1.0 :   True\n",
      "    num_warehouse : Size=1, Index=None, Active=True\n",
      "        Key  : Lower : Body                                   : Upper : Active\n",
      "        None :  -Inf : y[Harlingen] + y[Memphis] + y[Ashland] :   2.0 :   True\n",
      "    warehouse_active : Size=12, Index={Harlingen, Memphis, Ashland}*{NYC, LA, Chicago, Houston}, Active=True\n",
      "        Key                      : Lower : Body                                : Upper : Active\n",
      "          ('Ashland', 'Chicago') :  -Inf :     x[Ashland,Chicago] - y[Ashland] :   0.0 :   True\n",
      "          ('Ashland', 'Houston') :  -Inf :     x[Ashland,Houston] - y[Ashland] :   0.0 :   True\n",
      "               ('Ashland', 'LA') :  -Inf :          x[Ashland,LA] - y[Ashland] :   0.0 :   True\n",
      "              ('Ashland', 'NYC') :  -Inf :         x[Ashland,NYC] - y[Ashland] :   0.0 :   True\n",
      "        ('Harlingen', 'Chicago') :  -Inf : x[Harlingen,Chicago] - y[Harlingen] :   0.0 :   True\n",
      "        ('Harlingen', 'Houston') :  -Inf : x[Harlingen,Houston] - y[Harlingen] :   0.0 :   True\n",
      "             ('Harlingen', 'LA') :  -Inf :      x[Harlingen,LA] - y[Harlingen] :   0.0 :   True\n",
      "            ('Harlingen', 'NYC') :  -Inf :     x[Harlingen,NYC] - y[Harlingen] :   0.0 :   True\n",
      "          ('Memphis', 'Chicago') :  -Inf :     x[Memphis,Chicago] - y[Memphis] :   0.0 :   True\n",
      "          ('Memphis', 'Houston') :  -Inf :     x[Memphis,Houston] - y[Memphis] :   0.0 :   True\n",
      "               ('Memphis', 'LA') :  -Inf :          x[Memphis,LA] - y[Memphis] :   0.0 :   True\n",
      "              ('Memphis', 'NYC') :  -Inf :         x[Memphis,NYC] - y[Memphis] :   0.0 :   True\n",
      "\n",
      "6 Declarations: x y obj demand warehouse_active num_warehouse\n"
     ]
    }
   ],
   "source": [
    "model.pprint()"
   ]
  },
  {
   "cell_type": "markdown",
   "id": "ea070897",
   "metadata": {},
   "source": [
    "We can read and initiate a model instance and parameters from `XSLX` or excel files, `JSON` file formats, `YAML` and much more but this a concise Pyomo course not a Python course."
   ]
  },
  {
   "cell_type": "markdown",
   "id": "bc0ea902",
   "metadata": {},
   "source": [
    "<h2 align=center>Modeling Components for Sets and Parameters</h2>\n",
    "\n",
    "Pyomo includes modeling components `pyo.Set()` and `pyo.Param()` to define index sets and parameters. A Pyomo `Set` component is used declare valid indices for any indexed component. For the shown example above we can recreate the model using sets and parameters.\n",
    "\n",
    "<ul>\n",
    "\n",
    "<li><b>N</b>: Stores the valid warehouse locations</li>\n",
    "<li><b>M</b>: Stores the customer locations</li>\n",
    "\n",
    "</ul>\n",
    "\n",
    "We can create each set like `pyo.Set()` and assign each to the respective variable"
   ]
  },
  {
   "cell_type": "code",
   "execution_count": 39,
   "id": "7827d6c8",
   "metadata": {},
   "outputs": [],
   "source": [
    "model = pyo.ConcreteModel()\n",
    "model.N = pyo.Set()\n",
    "model.M = pyo.Set()"
   ]
  },
  {
   "cell_type": "markdown",
   "id": "2cc60f85",
   "metadata": {},
   "source": [
    "We can use `initialize=` argument to initialize the Set with Python sets, lists or tuples."
   ]
  },
  {
   "cell_type": "code",
   "execution_count": 40,
   "id": "fd16be84",
   "metadata": {},
   "outputs": [],
   "source": [
    "model = pyo.ConcreteModel()\n",
    "model.N = pyo.Set(initialize=N)\n",
    "model.M = pyo.Set(initialize=M)"
   ]
  },
  {
   "cell_type": "markdown",
   "id": "0a0757f8",
   "metadata": {},
   "source": [
    "Sets can be indexed by other sets by passing the set to the input of a another `pyo.Set()` set created and stored in a variable.\n",
    "\n",
    "For example:\n",
    "\n",
    "<div  style=\"background-color: lightgray;\">\n",
    "<code style=\"color= black;\">\n",
    "\n",
    "model.set1 = pyo.Set() <br />\n",
    "model.set2 = pyo.Set(model.set1)\n",
    "\n",
    "</code>\n",
    "</div>\n",
    "\n",
    "Now that the model.set1 is initialized and imagine it has the values 1,2,3 and the values of `model.set1['1']` has the set 2 indices like A and B assigned to it while `model.set1['2']` has B, C and D."
   ]
  },
  {
   "cell_type": "markdown",
   "id": "87852a0e",
   "metadata": {},
   "source": [
    "Pyomo Parameters defined as `pyo.Params()` can be used to define values for this problem. In the context of the example problem solved above we can declare parameters as the following. To know how many parameters are in a vector or matrix we can pass the set attributes to the `pyo.Params()` function. Every set item will be mixed with every other sets items and we can expect a vector of $n \\times m$ vector size, so for the warehouse problem with 4 different customer cities and 3 different possible warehouse locations we can have a $4 \\times 3$ parameter vector for **d** if we pass both sets."
   ]
  },
  {
   "cell_type": "code",
   "execution_count": 41,
   "id": "5d25e460",
   "metadata": {},
   "outputs": [],
   "source": [
    "model.P = pyo.Param() # declares a scalar parameter\n",
    "model.d = pyo.Param(model.N, model.M) # declares a 3 * 4 matrix"
   ]
  },
  {
   "cell_type": "markdown",
   "id": "38b157ca",
   "metadata": {},
   "source": [
    "As with the `pyo.Set()` object the `pyo.Param()` can be filled with values using a python dictionary and the use of `initialize=` argument.\n",
    "\n",
    "By default, parameters are immutable, meaning once their values are set, these values cannot be changed. This default behavior allows for increased efficiency within Pyomo when handling expressions. However, a parameter whose values are mutable can be defined with the `mutable=True` keyword argument in `pyo.Param()` or `pyo.Set()` functions. This can be useful if a model should be solved multiple times with different values of some of the parameters."
   ]
  },
  {
   "cell_type": "markdown",
   "id": "f38726f9",
   "metadata": {},
   "source": [
    "In the following code cells we will rewrite the warehouse problem this time with sets and parameters and reading the data from an excel file."
   ]
  },
  {
   "cell_type": "code",
   "execution_count": 42,
   "id": "a4cf3e43",
   "metadata": {},
   "outputs": [],
   "source": [
    "# warehouse_mutable.py: warehouse location problem with mutable parameters\n",
    "\n",
    "# Importing dependencies\n",
    "import pyomo.environ as pyo\n",
    "\n",
    "# Model creation function\n",
    "def create_warehouse_model(N, M, d, P):\n",
    "    model = pyo.ConcreteModel(name= \"(WL)\")\n",
    "\n",
    "    # Model variable creation\n",
    "    model.x = pyo.Var(N, M, bounds=(0,1))\n",
    "    model.y = pyo.Var(N, within=pyo.Binary)\n",
    "    model.P = pyo.Param(initialize=P, mutable=True)\n",
    "\n",
    "    # Objective function rule\n",
    "    def obj_rule(model):\n",
    "        return sum(d[n,m] * model.x[n,m] for n in N for m in M)\n",
    "    model.obj = pyo.Objective(rule=obj_rule)\n",
    "\n",
    "    # Defining Constraints\n",
    "    def demand_rule(model, m):\n",
    "        return sum(model.x[n,m] for n in N) == 1\n",
    "    model.demand = pyo.Constraint(M, rule=demand_rule)\n",
    "\n",
    "    def warehouse_active_rule(model, n, m):\n",
    "        return model.x[n, m] <= model.y[n]\n",
    "    model.warehouse_active = pyo.Constraint(N, M, rule=warehouse_active_rule)\n",
    "\n",
    "    def num_warehouses_rule(model):\n",
    "        return sum(model.y[n] for n in N) <= model.P\n",
    "    model.num_warehouses = pyo.Constraint(rule=num_warehouses_rule)\n",
    "\n",
    "    return model"
   ]
  },
  {
   "cell_type": "code",
   "execution_count": 44,
   "id": "588d90f9",
   "metadata": {},
   "outputs": [
    {
     "name": "stdout",
     "output_type": "stream",
     "text": [
      "The following commands were written to file `../Scripts/warehouse_mutable.py`:\n",
      "# warehouse_mutable.py: warehouse location problem with mutable parameters\n",
      "\n",
      "# Importing dependencies\n",
      "import pyomo.environ as pyo\n",
      "\n",
      "# Model creation function\n",
      "def create_warehouse_model(N, M, d, P):\n",
      "    model = pyo.ConcreteModel(name= \"(WL)\")\n",
      "\n",
      "    # Model variable creation\n",
      "    model.x = pyo.Var(N, M, bounds=(0,1))\n",
      "    model.y = pyo.Var(N, within=pyo.Binary)\n",
      "    model.P = pyo.Param(initialize=P, mutable=True)\n",
      "\n",
      "    # Objective function rule\n",
      "    def obj_rule(model):\n",
      "        return sum(d[n,m] * model.x[n,m] for n in N for m in M)\n",
      "    model.obj = pyo.Objective(rule=obj_rule)\n",
      "\n",
      "    # Defining Constraints\n",
      "    def demand_rule(model, m):\n",
      "        return sum(model.x[n,m] for n in N) == 1\n",
      "    model.demand = pyo.Constraint(M, rule=demand_rule)\n",
      "\n",
      "    def warehouse_active_rule(model, n, m):\n",
      "        return model.x[n, m] <= model.y[n]\n",
      "    model.warehouse_active = pyo.Constraint(N, M, rule=warehouse_active_rule)\n",
      "\n",
      "    def num_warehouses_rule(model):\n",
      "        return sum(model.y[n] for n in N) <= model.P\n",
      "    model.num_warehouses = pyo.Constraint(rule=num_warehouses_rule)\n",
      "\n",
      "    return model\n"
     ]
    }
   ],
   "source": [
    "%save \"../Scripts/warehouse_mutable.py\" 42"
   ]
  },
  {
   "cell_type": "code",
   "execution_count": 46,
   "id": "3873a332",
   "metadata": {},
   "outputs": [
    {
     "name": "stdout",
     "output_type": "stream",
     "text": [
      "# warehouses: 1 warehouses selected with delivery  cost: 3986.0\n",
      "# Warehouses selected:\n",
      "y : Size=3, Index={Harlingen, Memphis, Ashland}\n",
      "    Key       : Lower : Value : Upper : Fixed : Stale : Domain\n",
      "      Ashland :     0 :   0.0 :     1 : False : False : Binary\n",
      "    Harlingen :     0 :   0.0 :     1 : False : False : Binary\n",
      "      Memphis :     0 :   1.0 :     1 : False : False : Binary\n",
      "None\n",
      "# warehouses: 2 warehouses selected with delivery  cost: 2745.0\n",
      "# Warehouses selected:\n",
      "y : Size=3, Index={Harlingen, Memphis, Ashland}\n",
      "    Key       : Lower : Value : Upper : Fixed : Stale : Domain\n",
      "      Ashland :     0 :   1.0 :     1 : False : False : Binary\n",
      "    Harlingen :     0 :   1.0 :     1 : False : False : Binary\n",
      "      Memphis :     0 :   0.0 :     1 : False : False : Binary\n",
      "None\n",
      "# warehouses: 3 warehouses selected with delivery  cost: 2745.0\n",
      "# Warehouses selected:\n",
      "y : Size=3, Index={Harlingen, Memphis, Ashland}\n",
      "    Key       : Lower : Value : Upper : Fixed : Stale : Domain\n",
      "      Ashland :     0 :   1.0 :     1 : False : False : Binary\n",
      "    Harlingen :     0 :   1.0 :     1 : False : False : Binary\n",
      "      Memphis :     0 :   0.0 :     1 : False : False : Binary\n",
      "None\n"
     ]
    }
   ],
   "source": [
    "#  warehouse_mutable_excel.py:  solve  problem  with  different  values  for  P\n",
    "\n",
    "# Importing Dependencies\n",
    "import pandas as pd\n",
    "import pyomo.environ  as  pyo\n",
    "from warehouse_mutable  import  create_warehouse_model\n",
    "\n",
    "\n",
    "# Read  the  data  from  Excel  using  Pandas\n",
    "df  =  pd.read_excel('../Import Data/warehouse_data.xlsx',  sheet_name='Delivery', header=0, index_col=0)\n",
    "\n",
    "# \n",
    "N  =  list(df.index.map(str))\n",
    "M  =  list(df.columns.map(str))\n",
    "d  =  {(r,  c):df.at[r,c]  for  r  in  N  for  c  in  M} \n",
    "\n",
    "P=2\n",
    "\n",
    "#  create  the  Pyomo  model\n",
    "model  =  create_warehouse_model(N,  M,  d,  P)\n",
    "\n",
    "#  create  the  solver  interface\n",
    "solver  =  pyo.SolverFactory('glpk')\n",
    "\n",
    "#  loop  over  values  for  mutable  parameter  P for  n  in  range(1,10):\n",
    "for n in range(1,4):\n",
    "    model.P  =  n\n",
    "    res  =  solver.solve(model)\n",
    "    pyo.assert_optimal_termination(res)\n",
    "    print(f'# warehouses: {n} warehouses selected with delivery  cost:',  pyo.value(model.obj))\n",
    "    print(\"# Warehouses selected:\")\n",
    "    print(model.y.pprint())"
   ]
  },
  {
   "cell_type": "markdown",
   "id": "5ef95868",
   "metadata": {},
   "source": [
    "<hr />\n",
    "<h2 align=center>Stage 2: A deeper dive into each Pyomo component and its arguments</h2>\n"
   ]
  },
  {
   "cell_type": "markdown",
   "id": "3d02966c",
   "metadata": {},
   "source": []
  }
 ],
 "metadata": {
  "kernelspec": {
   "display_name": "base",
   "language": "python",
   "name": "python3"
  },
  "language_info": {
   "codemirror_mode": {
    "name": "ipython",
    "version": 3
   },
   "file_extension": ".py",
   "mimetype": "text/x-python",
   "name": "python",
   "nbconvert_exporter": "python",
   "pygments_lexer": "ipython3",
   "version": "3.12.7"
  }
 },
 "nbformat": 4,
 "nbformat_minor": 5
}
